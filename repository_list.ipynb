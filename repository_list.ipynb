{
 "cells": [
  {
   "cell_type": "markdown",
   "metadata": {},
   "source": [
    "# Object Retrieval API\n",
    "https://v2.sherpa.ac.uk/api/object-retrieval.html"
   ]
  },
  {
   "cell_type": "code",
   "execution_count": 3,
   "metadata": {},
   "outputs": [],
   "source": [
    "# APIキーを.env に格納\n",
    "from dotenv import load_dotenv\n",
    "load_dotenv()\n",
    "api_key = os.environ['api_key']\n",
    "# print(api_key)\n",
    "# data = [] # 初期化\n",
    "data = list(range(7))  "
   ]
  },
  {
   "cell_type": "code",
   "execution_count": 5,
   "metadata": {},
   "outputs": [],
   "source": [
    "# sherpaのAPIにクエリを投げる\n",
    "import requests\n",
    "import json\n",
    "import pprint\n",
    "# https://v2.sherpa.ac.uk/cgi/retrieve?item-type=repository&api-key=<YOUR-API-KEY>&format=Json&filter=[[%22country%22,%22equals%22,%22jp%22]]\n",
    "url = 'https://v2.sherpa.ac.uk/cgi/retrieve'\n",
    "filterparam = '[[%22country%22,%22equals%22,%22jp%22]]'\n",
    "# apiの制限は1回100件なので、offsetで調整\n",
    "params = {'item-type':'repository','api-key':api_key,'format':'Json','filter':filterparam, 'offset':'100'}\n",
    "# python requests クエリストリングを encodeしないようにする\n",
    "params_str = \"&\".join(\"%s=%s\" % (k,v) for k,v in params.items())\n",
    "res = requests.get(url, params=params_str)\n",
    "# print(res.url)\n",
    "data[1] = json.loads(res.text)\n",
    "# pprint.pprint(data)\n",
    "# about 6.4s/100ken"
   ]
  },
  {
   "cell_type": "code",
   "execution_count": 42,
   "metadata": {},
   "outputs": [],
   "source": [
    "len(data)\n",
    "concat_data = {}\n",
    "# 上書きされる\n",
    "#concat_data.update(data[0])\n",
    "#concat_data.update(data[1]) \n",
    "#concat_data = {**data[0],**data[1]}\n",
    "# for mylist in range(len(data)):\n",
    "#    print(mylist)\n",
    "#    #concat_data.update(data[mylist])\n",
    "concat_data = data[0]['items'] + data[1]['items']"
   ]
  },
  {
   "cell_type": "code",
   "execution_count": 46,
   "metadata": {},
   "outputs": [
    {
     "data": {
      "text/plain": [
       "{'repository_metadata': {'oai_url': 'http://mu.repo.nii.ac.jp/oai',\n",
       "  'content_types': ['journal_articles', 'theses_and_dissertations'],\n",
       "  'type': 'institutional',\n",
       "  'full_text_record_count': 1229,\n",
       "  'content_subjects_phrases': [{'language': 'en',\n",
       "    'phrase': 'Science',\n",
       "    'value': 'science'},\n",
       "   {'language': 'en', 'value': 'technology', 'phrase': 'Technology'},\n",
       "   {'language': 'en', 'phrase': 'Engineering', 'value': 'engineering'},\n",
       "   {'language': 'en', 'value': 'mathematics', 'phrase': 'Mathematics'},\n",
       "   {'language': 'en',\n",
       "    'phrase': 'Health and Medicine',\n",
       "    'value': 'health_and_medicine'},\n",
       "   {'language': 'en', 'value': 'arts', 'phrase': 'Arts'},\n",
       "   {'phrase': 'Humanities', 'value': 'humanities', 'language': 'en'},\n",
       "   {'phrase': 'Social Sciences',\n",
       "    'value': 'social_sciences',\n",
       "    'language': 'en'}],\n",
       "  'software': {'name_phrases': [{'language': 'en',\n",
       "     'value': 'weko',\n",
       "     'phrase': 'WEKO'}],\n",
       "   'name': 'weko'},\n",
       "  'url': 'https://mu.repo.nii.ac.jp/',\n",
       "  'content_subjects': ['science',\n",
       "   'technology',\n",
       "   'engineering',\n",
       "   'mathematics',\n",
       "   'health_and_medicine',\n",
       "   'arts',\n",
       "   'humanities',\n",
       "   'social_sciences'],\n",
       "  'name': [{'language': 'en',\n",
       "    'language_phrases': [{'phrase': 'English',\n",
       "      'value': 'en',\n",
       "      'language': 'en'}],\n",
       "    'preferred': 'name',\n",
       "    'preferred_phrases': [{'language': 'en',\n",
       "      'phrase': 'Name',\n",
       "      'value': 'name'}],\n",
       "    'name': 'Musashino University Academic Institutional Repository'},\n",
       "   {'language': 'ja',\n",
       "    'preferred_phrases': [{'phrase': 'Name',\n",
       "      'value': 'name',\n",
       "      'language': 'en'}],\n",
       "    'name': '武蔵野大学 学術機関リポジトリ',\n",
       "    'preferred': 'name',\n",
       "    'language_phrases': [{'value': 'ja',\n",
       "      'phrase': 'Japanese',\n",
       "      'language': 'en'}]}],\n",
       "  'metadata_record_count': 1449,\n",
       "  'content_types_phrases': [{'language': 'en',\n",
       "    'phrase': 'Journal Articles',\n",
       "    'value': 'journal_articles'},\n",
       "   {'language': 'en',\n",
       "    'phrase': 'Theses and Dissertations',\n",
       "    'value': 'theses_and_dissertations'}],\n",
       "  'type_phrases': [{'language': 'en',\n",
       "    'value': 'institutional',\n",
       "    'phrase': 'Institutional'}]},\n",
       " 'system_metadata': {'id': 3777,\n",
       "  'date_modified': '2022-01-12 15:35:53',\n",
       "  'date_created': '2016-11-10 15:08:49',\n",
       "  'uri': 'https://v2.sherpa.ac.uk/id/repository/3777',\n",
       "  'publicly_visible': 'yes',\n",
       "  'publicly_visible_phrases': [{'phrase': 'Yes',\n",
       "    'value': 'yes',\n",
       "    'language': 'en'}]},\n",
       " 'organisation': {'url': 'http://www.musashino-u.ac.jp/',\n",
       "  'country': 'jp',\n",
       "  'country_phrases': [{'language': 'en', 'value': 'jp', 'phrase': 'Japan'}],\n",
       "  'name': [{'language': 'en',\n",
       "    'preferred': 'name',\n",
       "    'language_phrases': [{'phrase': 'English',\n",
       "      'value': 'en',\n",
       "      'language': 'en'}],\n",
       "    'name': 'Musashino University',\n",
       "    'preferred_phrases': [{'language': 'en',\n",
       "      'phrase': 'Name',\n",
       "      'value': 'name'}]},\n",
       "   {'language': 'ja',\n",
       "    'preferred_phrases': [{'phrase': 'Name',\n",
       "      'value': 'name',\n",
       "      'language': 'en'}],\n",
       "    'name': '武蔵野大学',\n",
       "    'language_phrases': [{'value': 'ja',\n",
       "      'phrase': 'Japanese',\n",
       "      'language': 'en'}],\n",
       "    'preferred': 'name'}]}}"
      ]
     },
     "execution_count": 46,
     "metadata": {},
     "output_type": "execute_result"
    }
   ],
   "source": [
    "concat_data[199]"
   ]
  },
  {
   "cell_type": "code",
   "execution_count": 47,
   "metadata": {},
   "outputs": [
    {
     "name": "stdout",
     "output_type": "stream",
     "text": [
      "{'repository_metadata': {'content_types_phrases': [{'language': 'en', 'phrase': 'Journal Articles', 'value': 'journal_articles'}, {'language': 'en', 'value': 'unpub_reports_and_working_papers', 'phrase': 'Reports and Working Papers'}, {'language': 'en', 'value': 'other_special_item_types', 'phrase': 'Other Special Item Types'}], 'type_phrases': [{'language': 'en', 'phrase': 'Institutional', 'value': 'institutional'}], 'metadata_record_count': 8433, 'content_subjects': ['social_sciences'], 'name': [{'language': 'en', 'name': 'Hokkaido University of Education Repository', 'preferred_phrases': [{'language': 'en', 'phrase': 'Name', 'value': 'name'}], 'language_phrases': [{'language': 'en', 'value': 'en', 'phrase': 'English'}], 'preferred': 'name'}, {'language': 'ja', 'preferred': 'name', 'language_phrases': [{'language': 'en', 'phrase': 'Japanese', 'value': 'ja'}], 'preferred_phrases': [{'value': 'name', 'phrase': 'Name', 'language': 'en'}], 'name': '北海道教育大学学術リポジトリ'}], 'url': 'http://s-ir.sap.hokkyodai.ac.jp/', 'software': {'name_phrases': [{'language': 'en', 'value': 'dspace', 'phrase': 'DSpace'}], 'name': 'dspace'}, 'content_subjects_phrases': [{'value': 'social_sciences', 'phrase': 'Social Sciences', 'language': 'en'}], 'content_types': ['journal_articles', 'unpub_reports_and_working_papers', 'other_special_item_types'], 'type': 'institutional', 'oai_url': 'http://s-ir.sap.hokkyodai.ac.jp/dspace-oai/request'}, 'system_metadata': {'publicly_visible_phrases': [{'language': 'en', 'value': 'yes', 'phrase': 'Yes'}], 'uri': 'https://v2.sherpa.ac.uk/id/repository/1937', 'publicly_visible': 'yes', 'date_created': '2010-10-20 10:10:44', 'date_modified': '2022-01-12 15:35:24', 'id': 1937}, 'organisation': {'country_phrases': [{'language': 'en', 'phrase': 'Japan', 'value': 'jp'}], 'country': 'jp', 'url': 'http://www.hokkyodai.ac.jp/', 'name': [{'language': 'en', 'preferred': 'name', 'language_phrases': [{'phrase': 'English', 'value': 'en', 'language': 'en'}], 'preferred_phrases': [{'language': 'en', 'value': 'name', 'phrase': 'Name'}], 'name': 'Hokkaido University of Education'}, {'preferred': 'name', 'language_phrases': [{'language': 'en', 'value': 'ja', 'phrase': 'Japanese'}], 'preferred_phrases': [{'phrase': 'Name', 'value': 'name', 'language': 'en'}], 'name': '北海道教育大学', 'language': 'ja'}]}}\n"
     ]
    }
   ],
   "source": [
    "#import json \n",
    "#json_object = json.load(data)\n",
    "#print(json_object[\"items\"][0])\n",
    "# すでに一つ上で json.load しているので、さらにloadしなくてよい（当たり前ですが・・・）\n",
    "# data[\"items\"][1] の　[0],[1],... がそれぞれ1機関\n",
    "# content = concat_data[\"items\"][99]\n",
    "content = concat_data[99]\n",
    "print(content)"
   ]
  },
  {
   "cell_type": "code",
   "execution_count": 50,
   "metadata": {},
   "outputs": [
    {
     "data": {
      "text/plain": [
       "200"
      ]
     },
     "execution_count": 50,
     "metadata": {},
     "output_type": "execute_result"
    }
   ],
   "source": [
    "len(concat_data)"
   ]
  },
  {
   "cell_type": "code",
   "execution_count": 53,
   "metadata": {},
   "outputs": [
    {
     "ename": "IndexError",
     "evalue": "list assignment index out of range",
     "output_type": "error",
     "traceback": [
      "\u001b[1;31m---------------------------------------------------------------------------\u001b[0m",
      "\u001b[1;31mIndexError\u001b[0m                                Traceback (most recent call last)",
      "\u001b[1;32m~\\AppData\\Local\\Temp/ipykernel_25264/877884583.py\u001b[0m in \u001b[0;36m<module>\u001b[1;34m\u001b[0m\n\u001b[0;32m     17\u001b[0m \u001b[0mdata2\u001b[0m \u001b[1;33m=\u001b[0m \u001b[1;33m[\u001b[0m\u001b[1;33m]\u001b[0m\u001b[1;33m\u001b[0m\u001b[1;33m\u001b[0m\u001b[0m\n\u001b[0;32m     18\u001b[0m \u001b[1;32mfor\u001b[0m \u001b[0morg\u001b[0m \u001b[1;32min\u001b[0m \u001b[0mrange\u001b[0m\u001b[1;33m(\u001b[0m\u001b[0mlen\u001b[0m\u001b[1;33m(\u001b[0m\u001b[0mconcat_data\u001b[0m\u001b[1;33m)\u001b[0m\u001b[1;33m)\u001b[0m\u001b[1;33m:\u001b[0m\u001b[1;33m\u001b[0m\u001b[1;33m\u001b[0m\u001b[0m\n\u001b[1;32m---> 19\u001b[1;33m     \u001b[0mdata2\u001b[0m\u001b[1;33m[\u001b[0m\u001b[0morg\u001b[0m\u001b[1;33m]\u001b[0m \u001b[1;33m=\u001b[0m \u001b[0mflatten\u001b[0m\u001b[1;33m(\u001b[0m\u001b[0mconcat_data\u001b[0m\u001b[1;33m[\u001b[0m\u001b[0morg\u001b[0m\u001b[1;33m]\u001b[0m\u001b[1;33m)\u001b[0m\u001b[1;33m\u001b[0m\u001b[1;33m\u001b[0m\u001b[0m\n\u001b[0m\u001b[0;32m     20\u001b[0m \u001b[1;31m# for org in range(len(data['items'])):\u001b[0m\u001b[1;33m\u001b[0m\u001b[1;33m\u001b[0m\u001b[0m\n\u001b[0;32m     21\u001b[0m \u001b[1;31m#     data2[org] = flatten(data['items'][org])\u001b[0m\u001b[1;33m\u001b[0m\u001b[1;33m\u001b[0m\u001b[0m\n",
      "\u001b[1;31mIndexError\u001b[0m: list assignment index out of range"
     ]
    }
   ],
   "source": [
    "def flatten(d,sep=\"_\"):\n",
    "    import collections\n",
    "    obj = collections.OrderedDict()\n",
    "    def recurse(t,parent_key=\"\"):\n",
    "        if isinstance(t,list):\n",
    "            for i in range(len(t)):\n",
    "                recurse(t[i],parent_key + sep + str(i) if parent_key else str(i))\n",
    "        elif isinstance(t,dict):\n",
    "            for k,v in t.items():\n",
    "                recurse(v,parent_key + sep + k if parent_key else k)\n",
    "        else:\n",
    "            obj[parent_key] = t\n",
    "    recurse(d)\n",
    "    return obj\n",
    "\n",
    "# data2 = flatten(data['items'])\n",
    "data2 = []\n",
    "for org in range(len(concat_data)):\n",
    "    data2[org] = flatten(concat_data[org])  \n",
    "# for org in range(len(data['items'])):\n",
    "#     data2[org] = flatten(data['items'][org])  "
   ]
  },
  {
   "cell_type": "code",
   "execution_count": null,
   "metadata": {},
   "outputs": [],
   "source": [
    "# print(data2.keys())\n",
    "data2"
   ]
  },
  {
   "cell_type": "code",
   "execution_count": null,
   "metadata": {},
   "outputs": [],
   "source": [
    "# Pandas Dataframe でキーを列に、値を行の値に変換するには、辞書を角括弧で囲むだけ\n",
    "# 完全に一列フラットになってしまう\n",
    "import pandas as pd\n",
    "# repometa3 = pd.DataFrame([data2[0]])\n",
    "# len(data2)\n",
    "repometa3 = pd.DataFrame(index=[], columns=[])\n",
    "for org in range(len(data['items'])):\n",
    "    repometa3 = pd.concat([repometa3, pd.DataFrame([data2[org]])])\n",
    "repometa3"
   ]
  },
  {
   "cell_type": "code",
   "execution_count": null,
   "metadata": {},
   "outputs": [],
   "source": [
    "repometa3.set_index('system_metadata_id', drop=False, inplace=True)"
   ]
  },
  {
   "cell_type": "code",
   "execution_count": null,
   "metadata": {},
   "outputs": [],
   "source": [
    "repometa3\n",
    "# repometa3.columns\n",
    "# repometa3['organisation_name_1_name']\n",
    "# print(repometa3.iloc[97:,])"
   ]
  },
  {
   "cell_type": "code",
   "execution_count": null,
   "metadata": {},
   "outputs": [],
   "source": [
    "import pandas as pd\n",
    "repometa = pd.DataFrame(list(content.items())).T\n",
    "# repometa = pd.DataFrame.from_dict(content, orient='index').T\n",
    "repometa"
   ]
  },
  {
   "cell_type": "code",
   "execution_count": null,
   "metadata": {},
   "outputs": [],
   "source": [
    "# content2 = data[\"items\"]\n",
    "# print(content2)\n",
    "repometa2 = pd.DataFrame(data[\"items\"])\n",
    "repometa2"
   ]
  },
  {
   "cell_type": "code",
   "execution_count": null,
   "metadata": {},
   "outputs": [],
   "source": [
    "repometa2"
   ]
  },
  {
   "cell_type": "code",
   "execution_count": null,
   "metadata": {},
   "outputs": [],
   "source": [
    "repometa3 = repometa2.copy()"
   ]
  },
  {
   "cell_type": "code",
   "execution_count": null,
   "metadata": {},
   "outputs": [],
   "source": [
    "# pandasのセルのなかにdictionaryが！を展開\n",
    "# repometa4 = repometa2['repository_metadata'].apply(pd.Series)\n",
    "# これだけだとさらにdarrayが埋まっている\n",
    "'''\n",
    "for i, column_name in enumerate(repometa3):\n",
    "   repometa4 = repometa3[column_name].apply(pd.Series)\n",
    "'''\n",
    "\n",
    "def flatdict():\n",
    "   for i, column_name in enumerate(repometa3):\n",
    "      repometa4 = repometa3[column_name].apply(pd.Series)\n",
    "   return repometa4\n",
    "\n",
    "repometa4 = flatdict()\n"
   ]
  },
  {
   "cell_type": "code",
   "execution_count": null,
   "metadata": {},
   "outputs": [],
   "source": [
    "# data['items'][0]\n",
    "repometa4"
   ]
  },
  {
   "cell_type": "code",
   "execution_count": null,
   "metadata": {},
   "outputs": [],
   "source": [
    "#v for i, column_name in enumerate(repometa4):\n",
    "#    print(column_name)\n",
    "#for i, column_name in enumerate(repometa4):\n",
    "column_name = 'content_types_phrases'\n",
    "repometa5 = repometa4[column_name].apply(pd.Series)"
   ]
  },
  {
   "cell_type": "code",
   "execution_count": null,
   "metadata": {},
   "outputs": [],
   "source": [
    "repometa5"
   ]
  },
  {
   "cell_type": "code",
   "execution_count": null,
   "metadata": {},
   "outputs": [],
   "source": [
    "def flatdict():\n",
    "   for i, column_name in enumerate(repometa4):\n",
    "      repometa5 = repometa4[column_name].apply(pd.Series)\n",
    "   return repometa5\n",
    "flatdict()"
   ]
  },
  {
   "cell_type": "code",
   "execution_count": null,
   "metadata": {},
   "outputs": [],
   "source": [
    "repometa4"
   ]
  },
  {
   "cell_type": "code",
   "execution_count": null,
   "metadata": {},
   "outputs": [],
   "source": [
    "\n",
    "# for i, column_name in enumerate(repometa3):\n",
    "column_name = 'software'\n",
    "df = pd.DataFrame(repometa4[column_name].values.tolist()).add_prefix(column_name)\n",
    "# df = pd.DataFrame(repometa4['content_types'].values.tolist()).add_prefix('content_types_')\n",
    "# df = pd.DataFrame(repometa2['type'].values.tolist()).add_prefix('content_types_')\n",
    "'''\n",
    "def flatarray():\n",
    "   for i, column_name in enumerate(repometa2):\n",
    "       pd.DataFrame(repometa2[column_name].values.tolist()).add_prefix(column_name)\n",
    "       # df2 = pd.DataFrame(repometa2[columun_name].values.tolist()).add_prefix(column_name)\n",
    "       # repometa3 = pd.concat(repometa2, df2)\n",
    "       # repometa2.assign(df2)\n",
    "       # repometa2[column_name].apply(pd.DataFrame(repometa2[columun_name].values.tolist()))\n",
    "       # repometa2[column_name].apply(pd.Series)\n",
    "   return flatarray()\n",
    "\n",
    "df2 = flatarray()\n",
    "'''\n",
    "\n"
   ]
  },
  {
   "cell_type": "code",
   "execution_count": null,
   "metadata": {},
   "outputs": [],
   "source": [
    "df"
   ]
  },
  {
   "cell_type": "code",
   "execution_count": null,
   "metadata": {},
   "outputs": [],
   "source": [
    "def _unwrap(dct, prefix):\n",
    "    for key, value in dct.items():\n",
    "        new_key = f'{prefix}_{key}'\n",
    "        if isinstance(value, dict):\n",
    "            yield from _unwrap(value, new_key)\n",
    "        else:\n",
    "            yield new_key[1:], value       \n",
    "\n",
    "def unwrap(dct):\n",
    "    return dict(_unwrap(dct, ''))\n",
    "\n",
    "content2 = repometa2['name']\n",
    "d2 = unwrap(content2)\n",
    "d2\n"
   ]
  },
  {
   "cell_type": "code",
   "execution_count": null,
   "metadata": {},
   "outputs": [],
   "source": [
    "repometa2 = pd.DataFrame(data[\"items\"])\n",
    "repometa2"
   ]
  }
 ],
 "metadata": {
  "interpreter": {
   "hash": "42751e3e43ee7908f4a4d17b9730cb6a060445f7f30ebfd63ff7271362d94c86"
  },
  "kernelspec": {
   "display_name": "Python 3.9.7 ('base')",
   "language": "python",
   "name": "python3"
  },
  "language_info": {
   "codemirror_mode": {
    "name": "ipython",
    "version": 3
   },
   "file_extension": ".py",
   "mimetype": "text/x-python",
   "name": "python",
   "nbconvert_exporter": "python",
   "pygments_lexer": "ipython3",
   "version": "3.9.7"
  },
  "orig_nbformat": 4
 },
 "nbformat": 4,
 "nbformat_minor": 2
}
